{
 "cells": [
  {
   "cell_type": "markdown",
   "id": "747e29b9-46a1-4f6b-961b-030445607778",
   "metadata": {},
   "source": [
    "\n",
    "# Superstore Sales Data Analysis\n",
    "\n",
    "## Objective\n",
    "The objective of this analysis is to explore the sales data of a Superstore and gain insights into:\n",
    "- Product performance.\n",
    "- Sales trends over time.\n",
    "- Profitability by region and category.\n",
    "\n",
    "## Dataset Description\n",
    "The dataset contains sales transactions from a Superstore, with the following columns:\n",
    "- **Order ID**: Unique identifier for each order.\n",
    "- **Product Name**: The name of the product sold.\n",
    "- **Sales**: The sales value of the product.\n",
    "- **Profit**: The profit made from the sale.\n",
    "- **Region**: The region where the sale occurred.\n",
    "- **Category**: The product category.\n",
    "- **Order Date**: The date the order was placed.\n",
    "- **Ship Date**: The date the order was shipped.\n",
    "\n",
    "## Libraries Used\n",
    "The following libraries were used in this project:\n",
    "- **pandas**: For data manipulation and analysis.\n",
    "- **numpy**: For numerical operations.\n",
    "- **matplotlib**: For data visualization (e.g., bar plots, line charts).\n",
    "- **seaborn**: For statistical plots (e.g., heatmaps).\n",
    "\n",
    "## Steps Involved\n",
    "1. **Loading and Preprocessing the Data**  \n",
    "\n",
    "   We begin by loading the dataset and cleaning it (handling missing values, duplicates, etc.).\n",
    "   \n",
    "2. **Exploratory Data Analysis (EDA)**  \n",
    "   In this step, we perform basic statistical analysis and explore various data visualizations to uncover patterns.\n",
    "   \n",
    "3. **Visualization of Key Metrics**  \n",
    "   We create several visualizations to compare:\n",
    "   - Sales vs. Profit\n",
    "   - Best-selling product categories\n",
    "   - Region-based performance\n",
    "\n",
    "4. **Insights and Conclusion**  \n",
    "   Based on the analysis, we summarize the findings and offer key insights about the business performance.\n",
    "\n",
    "## Key Insights\n",
    "- **Top-selling Products**: The top-selling product categories are Furniture and Technology.\n",
    "- **Best-performing Region**: The **West** region generates the highest sales and profits.\n",
    "- **Profitability Trend**: The overall profitability is increasing over time, though there are seasonal fluctuations.\n",
    "\n",
    "## Conclusion\n",
    "This analysis can guide business decisions by identifying high-performing regions and products, optimizing inventory management, and identifying areas for potential growth.\n"
   ]
  },
  {
   "cell_type": "code",
   "execution_count": null,
   "id": "2b75ff3e-bfd4-4c69-b7de-d126b7ab799e",
   "metadata": {},
   "outputs": [],
   "source": [
    "# Objective : \"Analyzing the SuperStore Sales,profit and customer data to provide actionable insights for improving business performance.\"\n",
    "import pandas as pd\n",
    "import numpy as np\n",
    "import matplotlib.pyplot as plt\n",
    "import seaborn as sns\n",
    "\n",
    "df = pd.read_csv(r'D:\\superstore sales dataset\\Sales Data.csv',encoding = 'unicode_escape')\n",
    "df.head(5)"
   ]
  },
  {
   "cell_type": "code",
   "execution_count": null,
   "id": "fa766d25-f0ab-407f-a15a-b1f1c14df4f0",
   "metadata": {},
   "outputs": [],
   "source": [
    "df.shape"
   ]
  },
  {
   "cell_type": "code",
   "execution_count": null,
   "id": "1d6eafb7-b3ec-4bc3-b1ad-d1a22348d6d5",
   "metadata": {},
   "outputs": [],
   "source": [
    "df.info()"
   ]
  },
  {
   "cell_type": "code",
   "execution_count": null,
   "id": "2c140da9-1f01-41dd-8088-b360a79ffe72",
   "metadata": {},
   "outputs": [],
   "source": [
    "#data Processing\n",
    "#datatype formatting: changing to datetime format\n",
    "df['Order Date'] = pd.to_datetime(df['Order Date'])\n",
    "df['Ship Date'] = pd.to_datetime(df['Ship Date'])"
   ]
  },
  {
   "cell_type": "code",
   "execution_count": null,
   "id": "99e9fc79-8bf4-4540-be07-3f247c72e3aa",
   "metadata": {},
   "outputs": [],
   "source": [
    "df.info()"
   ]
  },
  {
   "cell_type": "code",
   "execution_count": null,
   "id": "6fadc215-1e10-438c-9653-20aa377fb0e7",
   "metadata": {},
   "outputs": [],
   "source": [
    "#checking for null values\n",
    "print(df.isnull().sum())"
   ]
  },
  {
   "cell_type": "code",
   "execution_count": null,
   "id": "d03083c7-5e04-454c-85d7-100fdd15dfb5",
   "metadata": {},
   "outputs": [],
   "source": [
    "#unique values in key columns\n",
    "print(f' the unique values in Category are: {df['Category'].unique()}')\n",
    "print(f' the unique values in Sub-Category are: {df['Sub-Category'].unique()}')\n",
    "print(f' the unique values in Region are: {df['Region'].unique()}')"
   ]
  },
  {
   "cell_type": "code",
   "execution_count": null,
   "id": "0259be2e-4c3d-4530-8edf-f7086c74d1c3",
   "metadata": {},
   "outputs": [],
   "source": [
    "#Adding derived columns for further analysis\n",
    "df['Order Processing Time'] = (df['Ship Date'] - df['Order Date']).dt.days\n",
    "df['Profit Margin (%)'] = (df['Profit']/ df['Sales'])* 100\n",
    "df.head(5)\n"
   ]
  },
  {
   "cell_type": "code",
   "execution_count": null,
   "id": "1151d288-260f-4636-bf39-1fbaf83f17d2",
   "metadata": {},
   "outputs": [],
   "source": [
    "df.info()"
   ]
  },
  {
   "cell_type": "code",
   "execution_count": null,
   "id": "6bd5bb48-99f0-44a1-9081-9687558361e8",
   "metadata": {},
   "outputs": [],
   "source": [
    "#EDA (Exploratory Data Analysis):\n",
    "#counting the number of unique values\n",
    "#The nunique() method in pandas is used to count the number of unique values in a DataFrame or Series\n",
    "print(f' total_orders :{df['Order ID'].nunique()},total_customers:  {df['Customer ID'].nunique()}')"
   ]
  },
  {
   "cell_type": "code",
   "execution_count": null,
   "id": "77c9f932-e8a1-4fc8-886b-b8db9a8eb274",
   "metadata": {},
   "outputs": [],
   "source": [
    "#droping the duplicates values\n",
    "df.drop_duplicates(inplace = True)"
   ]
  },
  {
   "cell_type": "code",
   "execution_count": null,
   "id": "a084a63d-5bc5-475c-b2dc-c5b99f93c8ce",
   "metadata": {},
   "outputs": [],
   "source": [
    "#total sales, profit, and quantity sold\n",
    "print(df[['Sales','Profit','Quantity']].sum())"
   ]
  },
  {
   "cell_type": "code",
   "execution_count": null,
   "id": "4ab12921-19d9-4afb-a509-0e1c0f314193",
   "metadata": {},
   "outputs": [],
   "source": [
    "#Top 5 categories/sub categories by total sales and profit\n",
    "\n",
    "print(df.groupby('Category')['Sales'].sum().sort_values(ascending = False).head(5))"
   ]
  },
  {
   "cell_type": "code",
   "execution_count": null,
   "id": "6ce9695e-d51b-4bbe-b6ff-3d3feaa13b25",
   "metadata": {},
   "outputs": [],
   "source": [
    "#Sales and Profit by sub-category\n",
    "print(df.groupby('Sub-Category')['Sales'].sum().sort_values(ascending = False).head(5))\n",
    "print(df.groupby('Sub-Category')['Profit'].sum().sort_values(ascending = False).head(5))"
   ]
  },
  {
   "cell_type": "code",
   "execution_count": null,
   "id": "527860ee-1134-41ab-a1ee-5da5099dad93",
   "metadata": {},
   "outputs": [],
   "source": [
    "#regional performance\n",
    "print(df.groupby('Region')[['Sales','Profit']].sum())"
   ]
  },
  {
   "cell_type": "code",
   "execution_count": null,
   "id": "ac16eba0-ddcd-4bd6-a547-de7bce2342e7",
   "metadata": {},
   "outputs": [],
   "source": [
    "#Profit Margin analysis\n",
    "#analysing profit margin by each category and visualizing it\n",
    "print(df.groupby('Category')['Profit Margin (%)'].mean().sort_values(ascending = False))\n",
    "ProfitMargin_category = df.groupby('Category')['Profit Margin (%)'].mean().sort_values(ascending = False)\n",
    "ProfitMargin_category.plot(kind = 'bar', color = 'green' , xlabel = 'category',ylabel ='Profit-Margin')"
   ]
  },
  {
   "cell_type": "code",
   "execution_count": null,
   "id": "47cbf242-f8a2-4712-a7f3-d863cb555e8c",
   "metadata": {},
   "outputs": [],
   "source": [
    "#Advance Analysis\n",
    "#Sales trend analysis\n",
    "#analyzing monthly or quarterly sales trend\n",
    "df['Order Month'] = df['Order Date'].dt.to_period('M')\n",
    "print(df.groupby('Order Month')['Sales'].sum().sort_values(ascending = False).head(10))"
   ]
  },
  {
   "cell_type": "code",
   "execution_count": null,
   "id": "fdd97da6-a51c-4199-8e9d-7483ea89f1eb",
   "metadata": {},
   "outputs": [],
   "source": [
    "#Discount vs profit analysis\n",
    "#Investigating the impact of discount on profit\n",
    "print(df.groupby('Discount')['Profit'].mean())"
   ]
  },
  {
   "cell_type": "code",
   "execution_count": null,
   "id": "a34c7a7b-d91a-493a-a67c-ac1e31969cab",
   "metadata": {},
   "outputs": [],
   "source": [
    "#analysing sales and profit by customer segment\n",
    "print(df.groupby('Segment')[['Sales','Profit']].sum())"
   ]
  },
  {
   "cell_type": "code",
   "execution_count": null,
   "id": "3a7794c4-adbf-4d30-8f14-7df0807a6364",
   "metadata": {},
   "outputs": [],
   "source": [
    "#Shipping duration insights\n",
    "#Calculated and analysed shipping duration\n",
    "df['Shipping Duration']=(df['Ship Date']-df['Order Date']).dt.days\n",
    "print(df['Shipping Duration'].describe())"
   ]
  },
  {
   "cell_type": "code",
   "execution_count": null,
   "id": "f55c73ed-ddab-46ed-a06e-670526179af6",
   "metadata": {},
   "outputs": [],
   "source": [
    "#visualization\n",
    "# visualizing Sales by category using matplotlib and seaborn\n",
    "import matplotlib.pyplot as plt\n",
    "Sales_by_category = df.groupby('Category')['Sales'].sum().sort_values(ascending = False)\n",
    "Sales_by_category.plot(kind = 'bar',color= 'red',xlabel = 'categories', ylabel = 'total Sales')\n",
    "plt.title('Sales by Category', fontsize = 16)\n",
    "\n"
   ]
  },
  {
   "cell_type": "code",
   "execution_count": null,
   "id": "09438efd-cfdb-4991-968c-3e4f123c645d",
   "metadata": {},
   "outputs": [],
   "source": [
    "# visualising sales trend\n",
    "df['Year-Month'] = df['Order Date'].dt.to_period('M')\n",
    "sales_trend = df.groupby('Year-Month')['Sales'].sum()\n",
    "sales_trend.plot(kind = 'line',color = 'green',xlabel = 'Year-Month', ylabel = 'Total sales')\n",
    "plt.title('Sales trend over time')\n",
    "plt.show()\n"
   ]
  },
  {
   "cell_type": "code",
   "execution_count": null,
   "id": "c4bfd581-6c94-4baa-96d6-6b1fdf2420ba",
   "metadata": {},
   "outputs": [],
   "source": [
    "#regionwise sales\n",
    "import matplotlib.pyplot as plt\n",
    "Region_sales = df.groupby('Region')['Sales'].sum()\n",
    "Region_sales.plot(kind = 'pie', autopct = '%1.1f%%')\n",
    "plt.title('Sales by Region')\n",
    "plt.show()\n"
   ]
  },
  {
   "cell_type": "code",
   "execution_count": null,
   "id": "6300b2ab-0646-4de0-8153-f6e4ccdb95c7",
   "metadata": {},
   "outputs": [],
   "source": [
    "#discount vs profit\n",
    "import seaborn as sns\n",
    "sns.scatterplot(data =df, x='Discount', y ='Profit',color = 'red')\n",
    "plt.title('Profit on Discount')\n",
    "plt.show()"
   ]
  },
  {
   "cell_type": "code",
   "execution_count": null,
   "id": "0471546f-fe1c-4fa0-9959-3d78d62276c2",
   "metadata": {},
   "outputs": [],
   "source": [
    "#summarising findings\n",
    "#which 2 regions are the most profitable?\n",
    "print(df.groupby('Region')['Profit'].sum().sort_values(ascending = False).head(2))\n",
    "Profitable_regions = df.groupby('Region')['Profit'].sum().sort_values(ascending = False).head(2)\n",
    "Profitable_regions.plot(kind = 'bar',xlabel = 'Region',ylabel = 'Profit', color = 'orange')\n",
    "\n"
   ]
  }
 ],
 "metadata": {
  "kernelspec": {
   "display_name": "Python 3 (ipykernel)",
   "language": "python",
   "name": "python3"
  },
  "language_info": {
   "codemirror_mode": {
    "name": "ipython",
    "version": 3
   },
   "file_extension": ".py",
   "mimetype": "text/x-python",
   "name": "python",
   "nbconvert_exporter": "python",
   "pygments_lexer": "ipython3",
   "version": "3.13.1"
  }
 },
 "nbformat": 4,
 "nbformat_minor": 5
}
