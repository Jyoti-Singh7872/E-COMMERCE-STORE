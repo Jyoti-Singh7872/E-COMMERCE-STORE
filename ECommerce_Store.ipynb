{
 "cells": [
  {
   "cell_type": "markdown",
   "id": "fe828bd9-004c-47ed-9b6f-d9cabcac31ee",
   "metadata": {},
   "source": [
    "## E-COMMERCE STORE DATA ANALYSIS\n",
    "## Project Scope\n",
    "The goal of this project is to analyze the E-Commerce Store dataset to uncover patterns, trends, and insights that can guide business decisions and improve performance.\n",
    "\n",
    "## Dataset Summary\n",
    "The dataset contains 541,909 entries and 8 columns:\n",
    "- 5 categorical columns: `InvoiceNo`, `StockCode`, `Description`, `CustomerID`, `Country`.\n",
    "- 3 numerical columns: `Quantity`, `UnitPrice`, `InvoiceDate`.\n",
    "\n",
    "## Key Findings\n",
    "### 1. Data Cleaning\n",
    "- **Missing Values**:\n",
    "  - 135,080 missing `CustomerID` values dropped.\n",
    "- **Data Types**:\n",
    "  - Converted `InvoiceDate` to datetime for time-based analysis.\n",
    "\n",
    "### 2. Exploratory Data Analysis (EDA)\n",
    "- **Sales Trends**:\n",
    "  - Peak sales occurred during the holiday season.\n",
    "  - Weekdays had higher sales volumes compared to weekends.\n",
    "- **Top Products**:\n",
    "  - Identified the top 10 products contributing to overall sales.\n",
    "- **Regional Analysis**:\n",
    "  - The UK had the highest number of transactions.\n",
    "\n",
    "### 3. Visualization\n",
    "- Created bar charts, line plots, and heatmaps to visualize trends and patterns.\n",
    "\n",
    "\n",
    "## Recommendations\n",
    "- Focus marketing efforts on peak sales months.\n",
    "- Improve inventory management for top-selling products.\n",
    "- Explore expanding operations in high-potential countries.\n",
    "\n",
    "## Future Directions\n",
    "- Build a machine learning model for sales prediction.\n",
    "- Integrate real-time dashboards for monitoring sales performance.\n",
    "- Perform customer segmentation for targeted marketing campaigns.\n"
   ]
  },
  {
   "cell_type": "code",
   "execution_count": null,
   "id": "44315743-09e0-4cf8-9e06-945dad62d8e1",
   "metadata": {},
   "outputs": [],
   "source": [
    "import pandas as pd\n",
    "import matplotlib.pyplot as plt\n",
    "import seaborn as sns\n",
    "\n",
    "df= pd.read_csv(r'D:\\E-Commerce data\\data.csv' , encoding= 'unicode_escape')\n",
    "df.head(10)"
   ]
  },
  {
   "cell_type": "code",
   "execution_count": null,
   "id": "2b79fe0a-602f-4c00-9804-19ad5882dad6",
   "metadata": {},
   "outputs": [],
   "source": [
    "df.shape\n",
    "df.info()"
   ]
  },
  {
   "cell_type": "code",
   "execution_count": null,
   "id": "f7fc3c7c-7983-44a9-a8c2-96a02eafd632",
   "metadata": {},
   "outputs": [],
   "source": [
    "df.shape"
   ]
  },
  {
   "cell_type": "code",
   "execution_count": null,
   "id": "0f19dbb6-7ff2-4f13-b67b-6c1eebd1a57e",
   "metadata": {},
   "outputs": [],
   "source": [
    "df.describe()"
   ]
  },
  {
   "cell_type": "code",
   "execution_count": null,
   "id": "d97f4143-82b2-45ee-9758-dea2ac5f5275",
   "metadata": {},
   "outputs": [],
   "source": [
    "#checking for missing values\n",
    "print(df.isnull().sum())"
   ]
  },
  {
   "cell_type": "code",
   "execution_count": null,
   "id": "7e8dacab-25ba-4dad-a5ba-a70d45f5d1f4",
   "metadata": {},
   "outputs": [],
   "source": [
    "#dropping rows with missing values in customer id\n",
    "df = df.dropna(subset=['CustomerID'])"
   ]
  },
  {
   "cell_type": "code",
   "execution_count": null,
   "id": "8c39ccb2-335d-4608-8978-4a4830a155b1",
   "metadata": {},
   "outputs": [],
   "source": [
    "#checking null values\n",
    "print(df.isnull().sum())"
   ]
  },
  {
   "cell_type": "code",
   "execution_count": null,
   "id": "cdfb44b4-3060-4ee0-9ab9-35e0e65bf77e",
   "metadata": {},
   "outputs": [],
   "source": [
    "#converting Invoice date into datetime\n",
    "df['InvoiceDate']=pd.to_datetime(df['InvoiceDate'])"
   ]
  },
  {
   "cell_type": "code",
   "execution_count": null,
   "id": "3b0bbf44-1bcd-471d-a62c-d8a896c514a0",
   "metadata": {},
   "outputs": [],
   "source": [
    "#creating new column total sales\n",
    "df['TotalSales'] = df['Quantity']*df['UnitPrice']"
   ]
  },
  {
   "cell_type": "code",
   "execution_count": null,
   "id": "94bdcc37-18b8-4fec-ae9d-156d72314535",
   "metadata": {},
   "outputs": [],
   "source": [
    "df.info()"
   ]
  },
  {
   "cell_type": "code",
   "execution_count": null,
   "id": "6deccc64-3bcc-4dc0-a514-bf2b76f61bb9",
   "metadata": {},
   "outputs": [],
   "source": [
    "#EDA Exploratory data analysis\n",
    "#Top 3 product by sale\n",
    "top_product =df.groupby('Description')['TotalSales'].sum().sort_values(ascending = False).head(3)\n",
    "print(top_product)"
   ]
  },
  {
   "cell_type": "code",
   "execution_count": null,
   "id": "ebdd9709-0041-4ecb-9630-559b679b95be",
   "metadata": {},
   "outputs": [],
   "source": [
    "#Sale trend over time\n",
    "df['month-year'] = df['InvoiceDate'].dt.to_period('M')\n",
    "SaleTrend = df.groupby('month-year')['TotalSales'].sum()\n",
    "print(SaleTrend)\n",
    "SaleTrend.plot(kind = 'line' , color = 'red', title = 'Sales trend over year')\n"
   ]
  },
  {
   "cell_type": "code",
   "execution_count": null,
   "id": "d8ad7ef3-0b45-44e6-a1db-485551be201a",
   "metadata": {},
   "outputs": [],
   "source": [
    "#top1 and 3 customers by revenue\n",
    "top_consumers =df.groupby('CustomerID')['TotalSales'].sum().sort_values(ascending = False).head(3)\n",
    "print(top_consumers)\n",
    "top_consumers.plot(kind = 'pie', autopct = '%1.1f%%')\n"
   ]
  },
  {
   "cell_type": "code",
   "execution_count": null,
   "id": "6a97dd5c-5e17-4492-8450-4529f390a271",
   "metadata": {},
   "outputs": [],
   "source": [
    "#countrywise top 3 sales\n",
    "top_countries = df.groupby('Country')['TotalSales'].sum().sort_values(ascending = False).head(3)\n",
    "print(top_countries)\n",
    "top_countries.plot(kind = 'bar', color = 'skyblue', xlabel = 'Country', ylabel = 'TotalSales' , title = 'CountryWise Sale')"
   ]
  },
  {
   "cell_type": "code",
   "execution_count": null,
   "id": "124ed9e8-ffaa-4dfa-8dc6-1c17a319c431",
   "metadata": {},
   "outputs": [],
   "source": [
    "#Data visualization\n",
    "sns.barplot(x = top_product.values, y= top_product.index)\n",
    "plt.title('Top 10 Products by Sales')\n",
    "plt.show()"
   ]
  },
  {
   "cell_type": "code",
   "execution_count": null,
   "id": "9f5efd62-c639-4b9d-8241-4e3c7a24e2d9",
   "metadata": {},
   "outputs": [],
   "source": [
    "#Insights \n",
    "#Top selling products account for 30% of total revenue\n",
    "#Sales peak in december due to holiday shopping\n",
    "#recommendatons\n",
    "#Focus on promoting the top 10 products\n",
    "#offer discounts during peak seasons"
   ]
  }
 ],
 "metadata": {
  "kernelspec": {
   "display_name": "Python 3 (ipykernel)",
   "language": "python",
   "name": "python3"
  },
  "language_info": {
   "codemirror_mode": {
    "name": "ipython",
    "version": 3
   },
   "file_extension": ".py",
   "mimetype": "text/x-python",
   "name": "python",
   "nbconvert_exporter": "python",
   "pygments_lexer": "ipython3",
   "version": "3.13.1"
  }
 },
 "nbformat": 4,
 "nbformat_minor": 5
}
